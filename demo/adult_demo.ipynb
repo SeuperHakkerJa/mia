{
 "cells": [
  {
   "cell_type": "code",
   "execution_count": 2,
   "id": "c612d470-da73-4c1a-83ff-ab619fa849ba",
   "metadata": {},
   "outputs": [],
   "source": [
    "import numpy\n",
    "import pandas\n",
    "\n",
    "from mia.attack.estimators import MIA\n",
    "\n",
    "from sklearn.ensemble import RandomForestClassifier\n",
    "from sklearn.preprocessing import LabelEncoder, OneHotEncoder\n",
    "from sklearn.model_selection import train_test_split"
   ]
  },
  {
   "cell_type": "markdown",
   "id": "fadb29ba-9444-4a9b-b1ed-d8cf8e0c4145",
   "metadata": {},
   "source": [
    "## PARAMS"
   ]
  },
  {
   "cell_type": "code",
   "execution_count": 3,
   "id": "de6e6b28-948a-4dc4-9a4e-87de955f36f9",
   "metadata": {},
   "outputs": [],
   "source": [
    "SAMPLE = 4_884\n",
    "SHADOWS = 10"
   ]
  },
  {
   "cell_type": "markdown",
   "id": "a679c9bf-6e9f-4540-a0f3-3a30ef795138",
   "metadata": {},
   "source": [
    "## PREDICTOR"
   ]
  },
  {
   "cell_type": "code",
   "execution_count": 4,
   "id": "89a94bba-fc7c-4f7e-ab1e-f35897e977dd",
   "metadata": {},
   "outputs": [
    {
     "data": {
      "text/plain": [
       "0.8282321629644794"
      ]
     },
     "execution_count": 4,
     "metadata": {},
     "output_type": "execute_result"
    }
   ],
   "source": [
    "data = pandas.read_csv(\"../datasets//adult.csv\")\n",
    "data = data.apply(LabelEncoder().fit_transform)\n",
    "\n",
    "X = data.drop([\"class\"], axis=1).to_numpy()\n",
    "y = data[\"class\"].to_numpy()\n",
    "\n",
    "X_train, X_test, y_train, y_test = train_test_split(X, y, test_size=0.2, random_state=2)\n",
    "\n",
    "target = RandomForestClassifier().fit(X_train, y_train)\n",
    "target.score(X_test, y_test)"
   ]
  },
  {
   "cell_type": "markdown",
   "id": "49a4b08a-0f09-4c04-b1f7-5fa443d4cd2a",
   "metadata": {},
   "source": [
    "## SHADOWS"
   ]
  },
  {
   "cell_type": "code",
   "execution_count": 6,
   "id": "5f9a4e9a-7a3d-48b8-903c-d4cdc27ac3b7",
   "metadata": {},
   "outputs": [],
   "source": [
    "sample = data.sample(SAMPLE)\n",
    "\n",
    "X = sample.drop([\"class\"], axis=1).to_numpy()\n",
    "y = sample[\"class\"].to_numpy()"
   ]
  },
  {
   "cell_type": "code",
   "execution_count": 7,
   "id": "1c1bd34c-2f6e-4567-ab61-5bd6267ac068",
   "metadata": {},
   "outputs": [],
   "source": [
    "factory = lambda: RandomForestClassifier()"
   ]
  },
  {
   "cell_type": "code",
   "execution_count": 8,
   "id": "3ec3a5c6-7cfb-4fdf-9ff7-0a1e03dcb78f",
   "metadata": {},
   "outputs": [
    {
     "data": {
      "text/plain": [
       "0.695"
      ]
     },
     "execution_count": 8,
     "metadata": {},
     "output_type": "execute_result"
    }
   ],
   "source": [
    "sample = data.sample(200)\n",
    "\n",
    "X = target.predict_proba(sample.drop([\"class\"], axis=1).to_numpy())\n",
    "y = sample[\"class\"].to_numpy()\n",
    "\n",
    "attack = MIA(factory=factory, categories=2, shadows=SHADOWS).fit(X, y)\n",
    "attack.score(X, y)"
   ]
  }
 ],
 "metadata": {
  "kernelspec": {
   "display_name": "Python 3 (ipykernel)",
   "language": "python",
   "name": "python3"
  },
  "language_info": {
   "codemirror_mode": {
    "name": "ipython",
    "version": 3
   },
   "file_extension": ".py",
   "mimetype": "text/x-python",
   "name": "python",
   "nbconvert_exporter": "python",
   "pygments_lexer": "ipython3",
   "version": "3.11.6"
  }
 },
 "nbformat": 4,
 "nbformat_minor": 5
}
